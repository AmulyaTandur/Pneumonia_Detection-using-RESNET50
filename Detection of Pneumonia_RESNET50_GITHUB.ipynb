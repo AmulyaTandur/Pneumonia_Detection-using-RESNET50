{
 "cells": [
  {
   "cell_type": "markdown",
   "metadata": {},
   "source": [
    "### Summery\n",
    "<pre>\n",
    "Author           : Amulya Tandur\n",
    "Project Name     : Detection of Pulmonary Infection using Deep Convolutional Neural Network & Transfer Learning\n",
    "Method           : \n",
    "Tools/Library    : Python, Keras, PyTorch, TensorFlow\n",
    "Last Update      : 30.08.2025\n",
    "Comments         : Please use Anaconda editor for convenience of visualization.\n",
    "</pre>"
   ]
  },
  {
   "cell_type": "markdown",
   "metadata": {},
   "source": [
    "#### Code\n",
    "<pre>\n",
    "GitHub Link      : <a href=https://github.com/AmulyaTandur/Pneumonia_Detection-using-RESNET50>Detection of Pneumonia from Chest X-Ray Images(GitHub)</a>\n",
    "</pre>\n",
    "\n",
    "#### Dataset\n",
    "<pre>\n",
    "Dataset Name     : Chest X-Ray Images (Pneumonia)\n",
    "Dataset Link     : <a href=https://www.kaggle.com/datasets/paultimothymooney/chest-xray-pneumonia/data>Chest X-Ray Images (Pneumonia) Dataset (Kaggle)</a>\n",
    "                 \n",
    "Original Paper   : <a href=https://www.cell.com/cell/fulltext/S0092-8674(18)30154-5>Identifying Medical Diagnoses and Treatable Diseases by Image-Based Deep Learning</a>\n",
    "                   (Daniel S. Kermany, Michael Goldbaum, Wenjia Cai, M. Anthony Lewis, Huimin Xia, Kang Zhang)\n",
    "                   https://www.cell.com/cell/fulltext/S0092-8674(18)30154-5\n",
    "</pre>"
   ]
  },
  {
   "cell_type": "markdown",
   "metadata": {},
   "source": [
    "<!---\n",
    "#### Library/Tools Version\n",
    "- Python - v3.6.7\n",
    "- argparse\n",
    "- random\n",
    "- numpy\n",
    "- shutil\n",
    "- gc\n",
    "- re\n",
    "- Keras - 2.2.4\n",
    "- Keras-preprocessing - v1.0.5\n",
    "- TensorFlow - 1.12\n",
    "- PIL/Pillow - 5.1.0\n",
    "- Matplotlib - 2.2.2\n",
    "- scikit-learn - 0.19.1\n",
    "- mlxtend - 0.14.0\n",
    "-->"
   ]
  },
  {
   "cell_type": "markdown",
   "metadata": {},
   "source": [
    "#### Commands / Running Instruction\n",
    "<pre>\n",
    "tensorboard --logdir=logs\n",
    "%config IPCompleter.greedy=True\n",
    "</pre>"
   ]
  },
  {
   "cell_type": "markdown",
   "metadata": {},
   "source": [
    "<pre>\n",
    "<b>Dataset Details</b>\n",
    "Dataset Name            : Chest X-Ray Images (Pneumonia)\n",
    "Number of Class         : 2\n",
    "Number/Size of Images   : Total      : 5856 (1.15 Gigabyte (GB))\n",
    "                          Training   : 5216 (1.07 Gigabyte (GB))\n",
    "                          Validation : 320  (42.8 Megabyte (MB))\n",
    "                          Testing    : 320  (35.4 Megabyte (MB))\n",
    "\n",
    "<b>Model Parameters</b>\n",
    "Machine Learning Library: Keras\n",
    "Base Model              : RESNET50 & Custom Deep Convolutional Neural Network\n",
    "Optimizers              : Adam\n",
    "Loss Function           : categorical_crossentropy\n",
    "\n",
    "<b>For Custom Deep Convolutional Neural Network : </b>\n",
    "<b>Training Parameters</b>\n",
    "Batch Size              : 32\n",
    "Number of Epochs        : 15\n",
    "Training Time           : 2.5 Hours\n",
    "\n",
    "<b>Output (Prediction/ Recognition / Classification Metrics)</b>\n",
    "<!--<b>Validation</b>-->\n",
    "<b>Testing</b>\n",
    "Accuracy (F-1) Score    : 90.2%\n",
    "Loss                    : 0.28\n",
    "Precision               : 88.0 %\n",
    "Recall (Pneumonia)      : 92.6 % (For positive class)\n",
    "<!--Specificity             : -->\n",
    "</pre>"
   ]
  },
  {
   "cell_type": "markdown",
   "metadata": {},
   "source": [
    "### Detailed Classification Report\n",
    "<pre>\n",
    "        precision    recall  f1-score   support\n",
    "\n",
    "      NORMAL       0.86      0.79      0.83       234\n",
    "   PNEUMONIA       0.88      0.93      0.90       390\n",
    "\n",
    "    accuracy                           0.88       624\n",
    "   macro avg       0.87      0.86      0.86       624\n",
    "weighted avg       0.87      0.88      0.87       624\n",
    "    \n",
    "The model is showing an accuracy of 88% with F1-score ≈ 90.2%\n",
    "</pre>"
   ]
  },
  {
   "cell_type": "markdown",
   "metadata": {},
   "source": [
    "## Import Libraries"
   ]
  },
  {
   "cell_type": "code",
   "execution_count": 1,
   "metadata": {},
   "outputs": [],
   "source": [
    "import os,shutil \n",
    "import numpy as np\n",
    "import pandas as pd \n",
    "import matplotlib.pyplot as plt\n",
    "import tensorflow as tf\n",
    "import seaborn as sns \n",
    "\n",
    "from tensorflow.keras.preprocessing.image import ImageDataGenerator\n",
    "from tensorflow.keras.applications import ResNet50\n",
    "from  tensorflow.keras.callbacks import Callback,EarlyStopping\n",
    "from  tensorflow.keras.applications.resnet50 import preprocess_input\n",
    "from tensorflow.keras.models import Model\n",
    "from tensorflow.keras.models import load_model\n",
    "from tensorflow.keras.layers import Dense,Conv2D,MaxPooling2D,Flatten, GlobalAveragePooling2D, Dropout\n",
    "from tensorflow.keras.optimizers import Adam\n",
    "\n",
    "from sklearn.metrics import classification_report, confusion_matrix,roc_curve, auc\n",
    "\n",
    "from keras.preprocessing import image\n"
   ]
  },
  {
   "cell_type": "code",
   "execution_count": 2,
   "metadata": {},
   "outputs": [],
   "source": [
    "# Creates directory, if directory exists removes if remove parameter is set to True \n",
    "import cv2\n",
    "\n",
    "def get_data(data_dir):     # User defined function to fetch data from test, train or val\n",
    "    data = []\n",
    "    labels = ['PNEUMONIA', 'NORMAL']\n",
    "    img_size = 128\n",
    "\n",
    "    for label in labels: \n",
    "         # This will go to 'chest_xray/train/PNEUMONIA' path \n",
    "        path = os.path.join(data_dir, label)    # is the actual path of the image folder \n",
    "        class_num = labels.index(label)        \n",
    "        \n",
    "        for img in os.listdir(path):             \n",
    "            try:\n",
    "                img_path = os.path.join(path, img)\n",
    "                img_array = cv2.imread(img_path, cv2.IMREAD_GRAYSCALE)\n",
    "\n",
    "                # Check if image was read successfully\n",
    "                if img_array is None:\n",
    "                    print(f\"Warning: Unable to read image: {img_path}\")\n",
    "                    continue\n",
    "\n",
    "                resized_arr = cv2.resize(img_array, (img_size, img_size))\n",
    "                data.append([resized_arr, class_num])\n",
    "            except Exception as e:                   \n",
    "                print(f\"Error: {e} on image {img_path}\")\n",
    "\n",
    "    X = []\n",
    "    y = []\n",
    "    for feature, label in data:\n",
    "        X.append(feature)\n",
    "        y.append(label)\n",
    "\n",
    "    X = np.array(X).reshape(-1, img_size, img_size, 1) / 255.0\n",
    "    y = np.array(y)\n",
    "    return X, y"
   ]
  },
  {
   "cell_type": "markdown",
   "metadata": {},
   "source": [
    "### Exploratory Data Analysis"
   ]
  },
  {
   "cell_type": "code",
   "execution_count": null,
   "metadata": {},
   "outputs": [],
   "source": [
    " Visualize images of Pnemonia patients"
   ]
  },
  {
   "cell_type": "code",
   "execution_count": 6,
   "metadata": {},
   "outputs": [],
   "source": [
    "plt.figure (figsize=(20,10))\n",
    "\n",
    "for i in range(9):\n",
    "    plt.subplot(3,3,i+1)    # i+1 -> will go to next line \n",
    "    image= plt.imread(os.path.join(pneumonia_dir, pneumonia[i]))   \n",
    "    plt.axis('off')\n",
    "    plt.title('X-ray of Pneumonia Patients')\n",
    "plt.tight_layout()\n",
    "plt.show()"
   ]
  },
  {
   "cell_type": "markdown",
   "metadata": {},
   "source": [
    "Visualize images of Normal Individuals"
   ]
  },
  {
   "cell_type": "code",
   "execution_count": null,
   "metadata": {},
   "outputs": [],
   "source": [
    "plt.figure (figsize=(20,10))\n",
    "\n",
    "for i in range(9):\n",
    "    plt.subplot(3,3,i+1)   \n",
    "    image_2= plt.imread(os.path.join(normal_dir, normal[i]))  \n",
    "    plt.imshow(image_2, cmap='gray')\n",
    "    plt.axis('off')\n",
    "    plt.title('X-ray of Normal Individual ')\n",
    "plt.tight_layout()\n",
    "plt.show()"
   ]
  },
  {
   "cell_type": "markdown",
   "metadata": {},
   "source": [
    " Identify classes present in the Training directory and Visualize"
   ]
  },
  {
   "cell_type": "code",
   "execution_count": null,
   "metadata": {},
   "outputs": [],
   "source": [
    "# Path to training folder\n",
    "train_dir = r\"D:Deep Learning\\Kaggle_Pneumonia detection\\chest_xray\\chest_xray\\train\"\n",
    "\n",
    "# Get list of class names (folders)\n",
    "class_names = [folder for folder in os.listdir(train_dir) if os.path.isdir(os.path.join(train_dir, folder))]\n",
    "\n",
    "class_counts = {}   \n",
    "\n",
    "for class_name in class_names:\n",
    "    class_path = os.path.join(train_dir, class_name)\n",
    "    image_files = [img for img in os.listdir(class_path) if img.lower().endswith(('.jpg', '.jpeg', '.png'))]\n",
    "    class_counts[class_name] = len(image_files)\n",
    "\n",
    "print(\"Classes found and their counts:\")\n",
    "for label, count in class_counts.items():\n",
    "    print(f\"{label}: {count}\")"
   ]
  },
  {
   "cell_type": "code",
   "execution_count": null,
   "metadata": {},
   "outputs": [],
   "source": [
    "import matplotlib.pyplot as plt\n",
    "\n",
    "# Plotting class distribution\n",
    "plt.figure(figsize=(6, 4))\n",
    "plt.bar(class_counts.keys(), class_counts.values(), color=['skyblue', 'salmon'])\n",
    "plt.title('Class Distribution in Training Data')\n",
    "plt.xlabel('Class')\n",
    "plt.ylabel('Number of Images')\n",
    "plt.grid(False)\n",
    "plt.tight_layout()\n",
    "plt.show()"
   ]
  },
  {
   "cell_type": "markdown",
   "metadata": {},
   "source": [
    "\n",
    "### Image Preprocessing/ Augmentation/ Transformation for Training, Validation, Testing and  Dataset "
   ]
  },
  {
   "cell_type": "code",
   "execution_count": 2,
   "metadata": {},
   "outputs": [],
   "source": [
    "# batch_size = 32\n",
    "# target_size = (224, 224)\n",
    "# color_mode = \"rgb\"\n",
    "\n",
    "train_datagen = ImageDataGenerator(\n",
    "    rescale=1./255,\n",
    "    width_shift_range = 0.1,      \n",
    "    height_shift_range = 0.1,\n",
    "    zoom_range=0.2,\n",
    "    shear_range=0.2,\n",
    "    horizontal_flip=True,\n",
    "    validation_split = 0.2     \n",
    ")\n",
    "\n",
    "test_datagen = ImageDataGenerator(rescale=1./255) # For test set\n",
    "\n",
    "validation_datagen  = ImageDataGenerator(rescale=1./255)"
   ]
  },
  {
   "cell_type": "code",
   "execution_count": null,
   "metadata": {},
   "outputs": [],
   "source": [
    "train_generator = train_datagen.flow_from_directory(r\"D:\\Deep Learning\\Kaggle_Pneumonia detection\\chest_xray\\chest_xray\\train\",\n",
    "    target_size=(224, 224),   # Resizes all images to 224x224 pixels\n",
    "    batch_size= 32,\n",
    "    class_mode='categorical',\n",
    "    shuffle =True,\n",
    "    seed =42 ,\n",
    "    color_mode ='rgb'\n",
    ")\n",
    "\n",
    "validation_generator = validation_datagen.flow_from_directory(r'D:Deep Learning\\Kaggle_Pneumonia detection\\chest_xray\\chest_xray\\val',\n",
    "    target_size=(224, 224),\n",
    "    batch_size= 32,\n",
    "    class_mode='categorical',\n",
    "    shuffle =False,\n",
    "    seed =42,\n",
    "    color_mode ='rgb'\n",
    ")\n",
    "\n",
    "test_generator = test_datagen.flow_from_directory(r'D:Deep Learning\\Kaggle_Pneumonia detection\\chest_xray\\chest_xray\\test',\n",
    "    target_size=(224, 224),\n",
    "    batch_size= 32,\n",
    "    class_mode='categorical',\n",
    "    shuffle=False,\n",
    "    seed =42,\n",
    "    color_mode ='rgb'                                              \n",
    ")"
   ]
  },
  {
   "cell_type": "markdown",
   "metadata": {},
   "source": [
    "Compute Class weights "
   ]
  },
  {
   "cell_type": "code",
   "execution_count": 16,
   "metadata": {},
   "outputs": [],
   "source": [
    "from sklearn.utils import class_weight\n",
    "\n",
    "class_weights = class_weight.compute_class_weight(\n",
    "    class_weight='balanced',\n",
    "    classes=np.unique(train_generator.classes),\n",
    "    y=train_generator.classes\n",
    ")\n",
    "\n",
    "class_weight_dict = dict(enumerate(class_weights))  \n",
    "print(\"Class weights:\", class_weight_dict)      \n"
   ]
  },
  {
   "cell_type": "code",
   "execution_count": null,
   "metadata": {},
   "outputs": [],
   "source": []
  },
  {
   "cell_type": "markdown",
   "metadata": {},
   "source": [
    "### Transfer learning using ResNet50 Architecture"
   ]
  },
  {
   "cell_type": "code",
   "execution_count": null,
   "metadata": {},
   "outputs": [],
   "source": [
    "from tensorflow.keras.layers import BatchNormalization, Activation\n",
    "\n",
    "# 1) Load base model\n",
    "base_model = ResNet50(weights='imagenet', \n",
    "                      include_top=False, \n",
    "                      input_shape=(224, 224, 3))  \n",
    "\n",
    "# 2) Freeze it initially\n",
    "for layer in base_model.layers:\n",
    "    layer.trainable = False\n",
    "\n",
    "# 3) Add custom layers on top\n",
    "x = base_model.output\n",
    "x = GlobalAveragePooling2D()(base_model.output)    \n",
    "\n",
    "x = BatchNormalization()(x)             \n",
    "x = Dense(128)(x)                       \n",
    "x = BatchNormalization()(x)             \n",
    "x = Activation('relu')(x)    \n",
    "x = Dropout(0.3)(x)      \n",
    "\n",
    "# 4) Output layer for 2 classes \n",
    "out = Dense(2, activation='softmax')(x)\n",
    "\n",
    "# 5) Final model \n",
    "model_1 = Model(inputs=base_model.input,outputs= out)\n",
    "\n",
    "# 6) Compile\n",
    "model_1.compile(optimizer=Adam(learning_rate=1e-4),   # learning_rate=0.0001\n",
    "              loss='categorical_crossentropy',\n",
    "              metrics=['accuracy'] )\n",
    "\n",
    "\n",
    "model_1.summary()"
   ]
  },
  {
   "cell_type": "markdown",
   "metadata": {},
   "source": [
    "### Callbacks "
   ]
  },
  {
   "cell_type": "code",
   "execution_count": null,
   "metadata": {},
   "outputs": [],
   "source": [
    "from tensorflow.keras.callbacks import EarlyStopping, ModelCheckpoint, ReduceLROnPlateau\n",
    "\n",
    "filepath ='model_1.h5'\n",
    "\n",
    "early_stopping = EarlyStopping(monitor=\"val_loss\",\n",
    "                               patience=3,\n",
    "                               restore_best_weights=True )\n",
    "\n",
    "checkpoint =ModelCheckpoint(filepath,\n",
    "                            monitor=\"val_loss\",    \n",
    "                            save_best_only=True,\n",
    "                            mode=\"auto\",\n",
    "                            save_freq=\"epoch\")\n",
    "\n",
    "reduce_lr = ReduceLROnPlateau(monitor=\"val_accuracy\",  \n",
    "                              patience=3,\n",
    "                              verbose=1, \n",
    "                              factor=0.5,    \n",
    "                              min_lr=0.0001)"
   ]
  },
  {
   "cell_type": "code",
   "execution_count": null,
   "metadata": {},
   "outputs": [],
   "source": [
    "model_1.compile(\n",
    "    optimizer=Adam(learning_rate=1e-4),\n",
    "    loss='categorical_crossentropy',\n",
    "    metrics=['accuracy']\n",
    ")"
   ]
  },
  {
   "cell_type": "code",
   "execution_count": null,
   "metadata": {},
   "outputs": [],
   "source": [
    "# Save the model weights file \n",
    "save_path = r\"D:\\Deep Learning\\Kaggle_Pneumonia detection\\model_weights\"\n",
    "\n",
    "if not os.path.exists(save_path):\n",
    "    os.makedirs(save_path)\n",
    "\n",
    "model_1.save(r\"D:\\Deep Learning\\Kaggle_Pneumonia detection\\model_weights\\resnet50_model_1.keras\", overwrite=True)"
   ]
  },
  {
   "cell_type": "markdown",
   "metadata": {},
   "source": [
    "Evaluation Metrics for the model_1"
   ]
  },
  {
   "cell_type": "code",
   "execution_count": null,
   "metadata": {},
   "outputs": [],
   "source": [
    "from keras.models import load_model\n",
    "model_1.load_weights(r\"D:\\Deep Learning\\Kaggle_Pneumonia detection\\model_weights\\resnet50_model_1.keras\")\n",
    "\n",
    "#Evaluation metrics for model.01\n",
    "resnet_val_eval_01 = model_1.evaluate(validation_generator)\n",
    "resnet_test_eval_01 = model_1.evaluate(test_generator) "
   ]
  },
  {
   "cell_type": "code",
   "execution_count": null,
   "metadata": {},
   "outputs": [],
   "source": [
    "# Printing out the output \n",
    "\n",
    "print(f\"Validation Loss: {resnet_val_eval_01[0]}\")\n",
    "print(f\"Validation Accuracy: {resnet_val_eval_01[1]}\")\n",
    "print(f\"Test Loss: {resnet_test_eval_01[0]}\")\n",
    "print(f\"Test Accuracy: {resnet_test_eval_01[1]}\")    "
   ]
  },
  {
   "cell_type": "markdown",
   "metadata": {},
   "source": [
    "### Training/Fine-Tuning Base Model-"
   ]
  },
  {
   "cell_type": "code",
   "execution_count": null,
   "metadata": {},
   "outputs": [],
   "source": [
    "base_model = ResNet50(weights='imagenet', \n",
    "                      include_top=False, \n",
    "                      input_shape=(224, 224, 3))  \n",
    "\n",
    "# 2) Freeze it initially\n",
    "for layer in base_model.layers[-30]:\n",
    "    layer.trainable = True\n",
    "\n",
    "# 3) Add custom layers on top\n",
    "x = base_model.output\n",
    "x = GlobalAveragePooling2D()(base_model.output)    \n",
    "\n",
    "x = BatchNormalization()(x)             \n",
    "x = Dense(128)(x)                       \n",
    "x = BatchNormalization()(x)             \n",
    "x = Activation('relu')(x)    \n",
    "x = Dropout(0.3)(x)      \n",
    "\n",
    "# 4) Output layer for 2 classes \n",
    "out = Dense(2, activation='sigmoid')(x)\n",
    "\n",
    "# 5) Final model \n",
    "model_2 = Model(inputs=base_model.input,outputs= out)\n",
    "\n",
    "# 6) Compile\n",
    "model_2.compile(optimizer=Adam(learning_rate=1e-4),   # learning_rate=0.0001\n",
    "              loss='categorical_crossentropy',\n",
    "              metrics=['accuracy'] )\n",
    "\n",
    "\n",
    "model_2.summary()"
   ]
  },
  {
   "cell_type": "code",
   "execution_count": null,
   "metadata": {},
   "outputs": [],
   "source": [
    "# Save the model weights file \n",
    "save_path = r\"D:\\Deep Learning\\Kaggle_Pneumonia detection\\model_weights\"\n",
    "\n",
    "if not os.path.exists(save_path):\n",
    "    os.makedirs(save_path)\n",
    "\n",
    "model_2.save(r\"D:\\Deep Learning\\Kaggle_Pneumonia detection\\model_weights\\resnet50_model_2.keras\", overwrite=True)"
   ]
  },
  {
   "cell_type": "markdown",
   "metadata": {},
   "source": [
    "Evaluation Metrics for the model_2"
   ]
  },
  {
   "cell_type": "code",
   "execution_count": null,
   "metadata": {},
   "outputs": [],
   "source": [
    "from keras.models import load_model\n",
    "model_2.load_weights(r\"D:\\Deep Learning\\Kaggle_Pneumonia detection\\model_weights\\resnet50_model_2.keras\")\n",
    "\n",
    "#Evaluation metrics for model.02\n",
    "resnet_val_eval_02 = model_2.evaluate(validation_generator)\n",
    "resnet_test_eval_02 = model_2.evaluate(test_generator) "
   ]
  },
  {
   "cell_type": "code",
   "execution_count": null,
   "metadata": {},
   "outputs": [],
   "source": [
    "print(f\"Validation Loss: {resnet_val_eval_02[0]}\")\n",
    "print(f\"Validation Accuracy: {resnet_val_eval_02[1]}\")\n",
    "print(f\"Test Loss: {resnet_test_eval_02[0]}\")\n",
    "print(f\"Test Accuracy: {resnet_test_eval_02[1]}\")"
   ]
  },
  {
   "cell_type": "markdown",
   "metadata": {},
   "source": [
    "### Model Performance Visualization over the Epochs"
   ]
  },
  {
   "cell_type": "code",
   "execution_count": null,
   "metadata": {},
   "outputs": [],
   "source": [
    "plt.figure(figsize=(8, 6))\n",
    "plt.plot(history_ft.history['accuracy'], label='Training Accuracy')\n",
    "plt.plot(history_ft.history['val_accuracy'], label='Validation Accuracy')\n",
    "plt.title('Training and Validation Accuracy over Epochs')\n",
    "plt.xlabel('Epochs')\n",
    "plt.ylabel('Accuracy')\n",
    "plt.legend()\n",
    "plt.grid(True)\n",
    "plt.show()"
   ]
  },
  {
   "cell_type": "markdown",
   "metadata": {},
   "source": [
    "### Confusion matrix"
   ]
  },
  {
   "cell_type": "code",
   "execution_count": 149,
   "metadata": {},
   "outputs": [
    {
     "name": "stdout",
     "output_type": "stream",
     "text": [
      "data/output/models/2018-12-15 22-32-00/10-val_acc-0.96-val_loss-0.11.hdf5\n"
     ]
    }
   ],
   "source": [
    "true_labels = test_generator.classes\n",
    "pred_probs = model_2.predict(test_generator, steps=len(test_generator), verbose=1)\n",
    "pred_labels = np.argmax(pred_probs, axis=1)\n",
    "cm = confusion_matrix(true_labels, pred_labels)\n",
    "plt.figure(figsize=(6, 4))\n",
    "sns.heatmap(cm, annot=True, fmt='d', cmap='Blues', # 'fmt = d' returns the integer value in each grid\n",
    "            xticklabels=test_generator.class_indices.keys(),     # 'cmap' assigns color to each grid\n",
    "            yticklabels=test_generator.class_indices.keys())\n",
    "plt.xlabel('Predicted')\n",
    "plt.ylabel('Actual')\n",
    "plt.title('Confusion Matrix')\n",
    "plt.show()"
   ]
  },
  {
   "cell_type": "markdown",
   "metadata": {},
   "source": [
    "### Classification Report"
   ]
  },
  {
   "cell_type": "code",
   "execution_count": null,
   "metadata": {},
   "outputs": [],
   "source": [
    "print(classification_report(true_labels, pred_labels, target_names=test_generator.class_indices.keys()))"
   ]
  },
  {
   "cell_type": "code",
   "execution_count": 126,
   "metadata": {},
   "outputs": [
    {
     "name": "stdout",
     "output_type": "stream",
     "text": [
      "results\n",
      "1/1 [==============================] - 9s 9s/step\n"
     ]
    }
   ],
   "source": [
    "print(\"results\")\n",
    "y_pred = model.predict_generator(test_generator, steps=len(test_generator), verbose=1)  \n",
    "y_pred = y_pred.argmax(axis=-1)\n",
    "y_true=test_generator.classes"
   ]
  },
  {
   "cell_type": "markdown",
   "metadata": {},
   "source": [
    "### Plot ROC Curve and Compute AUC"
   ]
  },
  {
   "cell_type": "code",
   "execution_count": null,
   "metadata": {},
   "outputs": [],
   "source": [
    "from sklearn.metrics import roc_curve, auc\n",
    "\n",
    "\n",
    "test_generator.shuffle = False\n",
    "\n",
    "\n",
    "true_labels = test_generator.classes\n",
    "\n",
    "pred_probs = model_2.predict(test_generator, steps=len(test_generator), verbose=1)\n",
    "pred_pneumonia_probs = pred_probs[:, 1]  # Because , class 1 = PNEUMONIA\n",
    "\n",
    "\n",
    "fpr, tpr, thresholds = roc_curve(true_labels, pred_pneumonia_probs)\n",
    "roc_auc = auc(fpr, tpr)\n",
    "\n",
    "\n",
    "plt.figure(figsize=(8, 6))\n",
    "plt.plot(fpr, tpr, color='darkorange', label=f'ROC curve (AUC = {roc_auc:.2f})')\n",
    "plt.plot([0, 1], [0, 1], color='gray', linestyle='--')  # Diagonal reference line\n",
    "plt.xlabel('False Positive Rate')\n",
    "plt.ylabel('True Positive Rate')\n",
    "plt.title('Receiver Operating Characteristic (ROC) Curve')\n",
    "plt.legend(loc='lower right')\n",
    "plt.grid(True)\n",
    "plt.show()"
   ]
  },
  {
   "cell_type": "markdown",
   "metadata": {},
   "source": [
    "### The model’s AUC of 0.94 indicates it has a very high ability to distinguish between the two classes (Normal vs Pneumonia)."
   ]
  },
  {
   "cell_type": "code",
   "execution_count": null,
   "metadata": {},
   "outputs": [],
   "source": []
  }
 ],
 "metadata": {
  "kernelspec": {
   "display_name": "Python 3 (ipykernel)",
   "language": "python",
   "name": "python3"
  },
  "language_info": {
   "codemirror_mode": {
    "name": "ipython",
    "version": 3
   },
   "file_extension": ".py",
   "mimetype": "text/x-python",
   "name": "python",
   "nbconvert_exporter": "python",
   "pygments_lexer": "ipython3",
   "version": "3.12.7"
  }
 },
 "nbformat": 4,
 "nbformat_minor": 4
}
